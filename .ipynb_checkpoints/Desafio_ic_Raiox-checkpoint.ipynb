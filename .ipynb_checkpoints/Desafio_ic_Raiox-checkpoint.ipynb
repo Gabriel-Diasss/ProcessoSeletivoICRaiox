{
 "cells": [
  {
   "cell_type": "code",
   "execution_count": 1,
   "id": "49f9f924-83fe-4ea7-a71b-a70b83a9e2bf",
   "metadata": {},
   "outputs": [
    {
     "name": "stdout",
     "output_type": "stream",
     "text": [
      "Arquivo encontrado: /home/gab/dicom_samples/study1/study1_1/study1_1_1/study1_1_1img1.dcm\n"
     ]
    }
   ],
   "source": [
    "from pathlib import Path\n",
    "\n",
    "file_path = Path(\"/home/gab/dicom_samples/study1/study1_1/study1_1_1/study1_1_1img1.dcm\")\n",
    "\n",
    "# Verifica se o arquivo existe\n",
    "if file_path.is_file():\n",
    "    print(f\"Arquivo encontrado: {file_path}\")\n",
    "else:\n",
    "    print(f\"Arquivo não encontrado: {file_path}\")\n"
   ]
  },
  {
   "cell_type": "code",
   "execution_count": 2,
   "id": "9d6edcf0-6eed-4812-adfa-9333a5587126",
   "metadata": {},
   "outputs": [
    {
     "name": "stdout",
     "output_type": "stream",
     "text": [
      "Defaulting to user installation because normal site-packages is not writeable\n",
      "Requirement already satisfied: requests in /home/gab/.local/lib/python3.10/site-packages (2.32.3)\n",
      "Collecting pydicom\n",
      "  Downloading pydicom-3.0.0-py3-none-any.whl.metadata (9.4 kB)\n",
      "Requirement already satisfied: charset-normalizer<4,>=2 in /home/gab/.local/lib/python3.10/site-packages (from requests) (3.3.2)\n",
      "Requirement already satisfied: idna<4,>=2.5 in /usr/lib/python3/dist-packages (from requests) (3.3)\n",
      "Requirement already satisfied: urllib3<3,>=1.21.1 in /usr/lib/python3/dist-packages (from requests) (1.26.5)\n",
      "Requirement already satisfied: certifi>=2017.4.17 in /usr/lib/python3/dist-packages (from requests) (2020.6.20)\n",
      "Downloading pydicom-3.0.0-py3-none-any.whl (1.9 MB)\n",
      "\u001b[2K   \u001b[38;2;114;156;31m━━━━━━━━━━━━━━━━━━━━━━━━━━━━━━━━━━━━━━━━\u001b[0m \u001b[32m1.9/1.9 MB\u001b[0m \u001b[31m5.9 MB/s\u001b[0m eta \u001b[36m0:00:00\u001b[0m[31m14.4 MB/s\u001b[0m eta \u001b[36m0:00:01\u001b[0m\n",
      "\u001b[?25hInstalling collected packages: pydicom\n",
      "Successfully installed pydicom-3.0.0\n",
      "Note: you may need to restart the kernel to use updated packages.\n"
     ]
    }
   ],
   "source": [
    "pip install requests pydicom\n"
   ]
  },
  {
   "cell_type": "code",
   "execution_count": 3,
   "id": "3c3f7a45-bfed-449a-8b7f-b5221eb56d80",
   "metadata": {},
   "outputs": [
    {
     "name": "stdout",
     "output_type": "stream",
     "text": [
      "Erro ao enviar o arquivo: 401\n"
     ]
    }
   ],
   "source": [
    "import requests\n",
    "\n",
    "# Caminho para o arquivo DICOM\n",
    "dicom_file = \"/home/gab/dicom_samples/study1/study1_1/study1_1_1/study1_1_1img1.dcm\"\n",
    "\n",
    "# URL do Orthanc local\n",
    "url = \"http://localhost:8042/instances\"\n",
    "\n",
    "# Headers necessários\n",
    "headers = {\n",
    "    \"Content-Type\": \"application/dicom\"\n",
    "}\n",
    "\n",
    "# Ler e enviar o arquivo DICOM\n",
    "with open(dicom_file, 'rb') as f:\n",
    "    response = requests.post(url, headers=headers, data=f)\n",
    "    if response.status_code == 200:\n",
    "        print(f\"Arquivo {dicom_file} enviado com sucesso!\")\n",
    "    else:\n",
    "        print(f\"Erro ao enviar o arquivo: {response.status_code}\")"
   ]
  },
  {
   "cell_type": "code",
   "execution_count": 4,
   "id": "f0e62fa5-a436-4bfa-9c3f-b9a699bf4ab4",
   "metadata": {},
   "outputs": [
    {
     "name": "stdout",
     "output_type": "stream",
     "text": [
      "Arquivo /home/gab/dicom_samples/study1/study1_1/study1_1_1/study1_1_1img1.dcm enviado com sucesso!\n"
     ]
    }
   ],
   "source": [
    "import requests\n",
    "\n",
    "# Caminho para o arquivo DICOM\n",
    "dicom_file = \"/home/gab/dicom_samples/study1/study1_1/study1_1_1/study1_1_1img1.dcm\"\n",
    "\n",
    "# URL do Orthanc local\n",
    "url = \"http://localhost:8042/instances\"\n",
    "\n",
    "# Headers necessários\n",
    "headers = {\n",
    "    \"Content-Type\": \"application/dicom\"\n",
    "}\n",
    "\n",
    "# Nome de usuário e senha do Orthanc\n",
    "username = \"orthanc\"\n",
    "password = \"orthanc\"\n",
    "\n",
    "# Ler e enviar o arquivo DICOM com autenticação\n",
    "with open(dicom_file, 'rb') as f:\n",
    "    response = requests.post(url, headers=headers, data=f, auth=(username, password))\n",
    "    if response.status_code == 200:\n",
    "        print(f\"Arquivo {dicom_file} enviado com sucesso!\")\n",
    "    else:\n",
    "        print(f\"Erro ao enviar o arquivo: {response.status_code}\")\n"
   ]
  },
  {
   "cell_type": "code",
   "execution_count": 5,
   "id": "de1e8149-7174-4829-99e8-7361d839788e",
   "metadata": {},
   "outputs": [
    {
     "name": "stdout",
     "output_type": "stream",
     "text": [
      "Arquivo /home/gab/dicom_samples/id_0a1a38c4-c9e03c76-28a14f88-2d30e1d4-6183d46b/Study_79148372.32343444.40535568.71230168.45973202/Series_35159210.86362984.56224315.14980009.77443886/image-75545339-55870039-51885816-92064157-98378507.dcm enviado com sucesso!\n"
     ]
    }
   ],
   "source": [
    "import requests\n",
    "\n",
    "# Caminho para o arquivo DICOM\n",
    "dicom_file = \"/home/gab/dicom_samples/id_0a1a38c4-c9e03c76-28a14f88-2d30e1d4-6183d46b/Study_79148372.32343444.40535568.71230168.45973202/Series_35159210.86362984.56224315.14980009.77443886/image-75545339-55870039-51885816-92064157-98378507.dcm\"\n",
    "\n",
    "# URL do Orthanc local\n",
    "url = \"http://localhost:8042/instances\"\n",
    "\n",
    "# Headers necessários\n",
    "headers = {\n",
    "    \"Content-Type\": \"application/dicom\"\n",
    "}\n",
    "\n",
    "# Nome de usuário e senha do Orthanc\n",
    "username = \"orthanc\"\n",
    "password = \"orthanc\"\n",
    "\n",
    "# Ler e enviar o arquivo DICOM com autenticação\n",
    "with open(dicom_file, 'rb') as f:\n",
    "    response = requests.post(url, headers=headers, data=f, auth=(username, password))\n",
    "    if response.status_code == 200:\n",
    "        print(f\"Arquivo {dicom_file} enviado com sucesso!\")\n",
    "    else:\n",
    "        print(f\"Erro ao enviar o arquivo: {response.status_code}\")\n"
   ]
  },
  {
   "cell_type": "code",
   "execution_count": 6,
   "id": "5210b453-18e9-4b99-b990-742548f17ee7",
   "metadata": {},
   "outputs": [
    {
     "name": "stdout",
     "output_type": "stream",
     "text": [
      "Defaulting to user installation because normal site-packages is not writeable\n",
      "Collecting torchxrayvision\n",
      "  Downloading torchxrayvision-1.2.3-py3-none-any.whl.metadata (18 kB)\n",
      "Collecting torch>=1 (from torchxrayvision)\n",
      "  Downloading torch-2.4.1-cp310-cp310-manylinux1_x86_64.whl.metadata (26 kB)\n",
      "Collecting torchvision>=0.5 (from torchxrayvision)\n",
      "  Downloading torchvision-0.19.1-cp310-cp310-manylinux1_x86_64.whl.metadata (6.0 kB)\n",
      "Collecting scikit-image>=0.16 (from torchxrayvision)\n",
      "  Downloading scikit_image-0.24.0-cp310-cp310-manylinux_2_17_x86_64.manylinux2014_x86_64.whl.metadata (14 kB)\n",
      "Collecting tqdm>=4 (from torchxrayvision)\n",
      "  Downloading tqdm-4.66.5-py3-none-any.whl.metadata (57 kB)\n",
      "Requirement already satisfied: numpy>=1 in /home/gab/.local/lib/python3.10/site-packages (from torchxrayvision) (2.0.0)\n",
      "Requirement already satisfied: pandas>=1 in /home/gab/.local/lib/python3.10/site-packages (from torchxrayvision) (2.2.2)\n",
      "Requirement already satisfied: requests>=1 in /home/gab/.local/lib/python3.10/site-packages (from torchxrayvision) (2.32.3)\n",
      "Requirement already satisfied: pillow>=5.3.0 in /usr/lib/python3/dist-packages (from torchxrayvision) (9.0.1)\n",
      "Collecting imageio (from torchxrayvision)\n",
      "  Downloading imageio-2.35.1-py3-none-any.whl.metadata (4.9 kB)\n",
      "Requirement already satisfied: python-dateutil>=2.8.2 in /home/gab/.local/lib/python3.10/site-packages (from pandas>=1->torchxrayvision) (2.9.0.post0)\n",
      "Requirement already satisfied: pytz>=2020.1 in /usr/lib/python3/dist-packages (from pandas>=1->torchxrayvision) (2022.1)\n",
      "Requirement already satisfied: tzdata>=2022.7 in /home/gab/.local/lib/python3.10/site-packages (from pandas>=1->torchxrayvision) (2024.1)\n",
      "Requirement already satisfied: charset-normalizer<4,>=2 in /home/gab/.local/lib/python3.10/site-packages (from requests>=1->torchxrayvision) (3.3.2)\n",
      "Requirement already satisfied: idna<4,>=2.5 in /usr/lib/python3/dist-packages (from requests>=1->torchxrayvision) (3.3)\n",
      "Requirement already satisfied: urllib3<3,>=1.21.1 in /usr/lib/python3/dist-packages (from requests>=1->torchxrayvision) (1.26.5)\n",
      "Requirement already satisfied: certifi>=2017.4.17 in /usr/lib/python3/dist-packages (from requests>=1->torchxrayvision) (2020.6.20)\n",
      "Requirement already satisfied: scipy>=1.9 in /home/gab/.local/lib/python3.10/site-packages (from scikit-image>=0.16->torchxrayvision) (1.13.1)\n",
      "Collecting networkx>=2.8 (from scikit-image>=0.16->torchxrayvision)\n",
      "  Downloading networkx-3.3-py3-none-any.whl.metadata (5.1 kB)\n",
      "Collecting pillow>=5.3.0 (from torchxrayvision)\n",
      "  Downloading pillow-10.4.0-cp310-cp310-manylinux_2_28_x86_64.whl.metadata (9.2 kB)\n",
      "Collecting tifffile>=2022.8.12 (from scikit-image>=0.16->torchxrayvision)\n",
      "  Downloading tifffile-2024.8.30-py3-none-any.whl.metadata (31 kB)\n",
      "Requirement already satisfied: packaging>=21 in /home/gab/.local/lib/python3.10/site-packages (from scikit-image>=0.16->torchxrayvision) (24.1)\n",
      "Collecting lazy-loader>=0.4 (from scikit-image>=0.16->torchxrayvision)\n",
      "  Downloading lazy_loader-0.4-py3-none-any.whl.metadata (7.6 kB)\n",
      "Requirement already satisfied: filelock in /home/gab/.local/lib/python3.10/site-packages (from torch>=1->torchxrayvision) (3.13.3)\n",
      "Requirement already satisfied: typing-extensions>=4.8.0 in /home/gab/.local/lib/python3.10/site-packages (from torch>=1->torchxrayvision) (4.12.2)\n",
      "Collecting sympy (from torch>=1->torchxrayvision)\n",
      "  Downloading sympy-1.13.2-py3-none-any.whl.metadata (12 kB)\n",
      "Requirement already satisfied: jinja2 in /home/gab/.local/lib/python3.10/site-packages (from torch>=1->torchxrayvision) (3.1.4)\n",
      "Collecting fsspec (from torch>=1->torchxrayvision)\n",
      "  Downloading fsspec-2024.9.0-py3-none-any.whl.metadata (11 kB)\n",
      "Collecting nvidia-cuda-nvrtc-cu12==12.1.105 (from torch>=1->torchxrayvision)\n",
      "  Downloading nvidia_cuda_nvrtc_cu12-12.1.105-py3-none-manylinux1_x86_64.whl.metadata (1.5 kB)\n",
      "Collecting nvidia-cuda-runtime-cu12==12.1.105 (from torch>=1->torchxrayvision)\n",
      "  Downloading nvidia_cuda_runtime_cu12-12.1.105-py3-none-manylinux1_x86_64.whl.metadata (1.5 kB)\n",
      "Collecting nvidia-cuda-cupti-cu12==12.1.105 (from torch>=1->torchxrayvision)\n",
      "  Downloading nvidia_cuda_cupti_cu12-12.1.105-py3-none-manylinux1_x86_64.whl.metadata (1.6 kB)\n",
      "Collecting nvidia-cudnn-cu12==9.1.0.70 (from torch>=1->torchxrayvision)\n",
      "  Downloading nvidia_cudnn_cu12-9.1.0.70-py3-none-manylinux2014_x86_64.whl.metadata (1.6 kB)\n",
      "Collecting nvidia-cublas-cu12==12.1.3.1 (from torch>=1->torchxrayvision)\n",
      "  Downloading nvidia_cublas_cu12-12.1.3.1-py3-none-manylinux1_x86_64.whl.metadata (1.5 kB)\n",
      "Collecting nvidia-cufft-cu12==11.0.2.54 (from torch>=1->torchxrayvision)\n",
      "  Downloading nvidia_cufft_cu12-11.0.2.54-py3-none-manylinux1_x86_64.whl.metadata (1.5 kB)\n",
      "Collecting nvidia-curand-cu12==10.3.2.106 (from torch>=1->torchxrayvision)\n",
      "  Downloading nvidia_curand_cu12-10.3.2.106-py3-none-manylinux1_x86_64.whl.metadata (1.5 kB)\n",
      "Collecting nvidia-cusolver-cu12==11.4.5.107 (from torch>=1->torchxrayvision)\n",
      "  Downloading nvidia_cusolver_cu12-11.4.5.107-py3-none-manylinux1_x86_64.whl.metadata (1.6 kB)\n",
      "Collecting nvidia-cusparse-cu12==12.1.0.106 (from torch>=1->torchxrayvision)\n",
      "  Downloading nvidia_cusparse_cu12-12.1.0.106-py3-none-manylinux1_x86_64.whl.metadata (1.6 kB)\n",
      "Collecting nvidia-nccl-cu12==2.20.5 (from torch>=1->torchxrayvision)\n",
      "  Downloading nvidia_nccl_cu12-2.20.5-py3-none-manylinux2014_x86_64.whl.metadata (1.8 kB)\n",
      "Collecting nvidia-nvtx-cu12==12.1.105 (from torch>=1->torchxrayvision)\n",
      "  Downloading nvidia_nvtx_cu12-12.1.105-py3-none-manylinux1_x86_64.whl.metadata (1.7 kB)\n",
      "Collecting triton==3.0.0 (from torch>=1->torchxrayvision)\n",
      "  Downloading triton-3.0.0-1-cp310-cp310-manylinux2014_x86_64.manylinux_2_17_x86_64.whl.metadata (1.3 kB)\n",
      "Collecting nvidia-nvjitlink-cu12 (from nvidia-cusolver-cu12==11.4.5.107->torch>=1->torchxrayvision)\n",
      "  Downloading nvidia_nvjitlink_cu12-12.6.68-py3-none-manylinux2014_x86_64.whl.metadata (1.5 kB)\n",
      "Requirement already satisfied: six>=1.5 in /usr/lib/python3/dist-packages (from python-dateutil>=2.8.2->pandas>=1->torchxrayvision) (1.16.0)\n",
      "Requirement already satisfied: MarkupSafe>=2.0 in /home/gab/.local/lib/python3.10/site-packages (from jinja2->torch>=1->torchxrayvision) (2.1.5)\n",
      "Collecting mpmath<1.4,>=1.1.0 (from sympy->torch>=1->torchxrayvision)\n",
      "  Downloading mpmath-1.3.0-py3-none-any.whl.metadata (8.6 kB)\n",
      "Downloading torchxrayvision-1.2.3-py3-none-any.whl (29.0 MB)\n",
      "\u001b[2K   \u001b[38;2;114;156;31m━━━━━━━━━━━━━━━━━━━━━━━━━━━━━━━━━━━━━━━━\u001b[0m \u001b[32m29.0/29.0 MB\u001b[0m \u001b[31m4.8 MB/s\u001b[0m eta \u001b[36m0:00:00\u001b[0m[36m0:00:01\u001b[0mm eta \u001b[36m0:00:01\u001b[0m\n",
      "\u001b[?25hDownloading scikit_image-0.24.0-cp310-cp310-manylinux_2_17_x86_64.manylinux2014_x86_64.whl (14.9 MB)\n",
      "\u001b[2K   \u001b[38;2;114;156;31m━━━━━━━━━━━━━━━━━━━━━━━━━━━━━━━━━━━━━━━━\u001b[0m \u001b[32m14.9/14.9 MB\u001b[0m \u001b[31m11.6 MB/s\u001b[0m eta \u001b[36m0:00:00\u001b[0m[36m0:00:01\u001b[0m[36m0:00:01\u001b[0m1\u001b[0m\n",
      "\u001b[?25hDownloading imageio-2.35.1-py3-none-any.whl (315 kB)\n",
      "Downloading pillow-10.4.0-cp310-cp310-manylinux_2_28_x86_64.whl (4.5 MB)\n",
      "\u001b[2K   \u001b[38;2;114;156;31m━━━━━━━━━━━━━━━━━━━━━━━━━━━━━━━━━━━━━━━━\u001b[0m \u001b[32m4.5/4.5 MB\u001b[0m \u001b[31m16.5 MB/s\u001b[0m eta \u001b[36m0:00:00\u001b[0m MB/s\u001b[0m eta \u001b[36m0:00:01\u001b[0m\n",
      "\u001b[?25hDownloading torch-2.4.1-cp310-cp310-manylinux1_x86_64.whl (797.1 MB)\n",
      "\u001b[2K   \u001b[38;2;114;156;31m━━━━━━━━━━━━━━━━━━━━━━━━━━━━━━━━━━━━━━━━\u001b[0m \u001b[32m797.1/797.1 MB\u001b[0m \u001b[31m15.9 MB/s\u001b[0m eta \u001b[36m0:00:00\u001b[0mm eta \u001b[36m0:00:01\u001b[0m[36m0:00:02\u001b[0m\n",
      "\u001b[?25hDownloading nvidia_cublas_cu12-12.1.3.1-py3-none-manylinux1_x86_64.whl (410.6 MB)\n",
      "\u001b[2K   \u001b[38;2;114;156;31m━━━━━━━━━━━━━━━━━━━━━━━━━━━━━━━━━━━━━━━━\u001b[0m \u001b[32m410.6/410.6 MB\u001b[0m \u001b[31m17.1 MB/s\u001b[0m eta \u001b[36m0:00:00\u001b[0mm eta \u001b[36m0:00:01\u001b[0m[36m0:00:01\u001b[0m\n",
      "\u001b[?25hDownloading nvidia_cuda_cupti_cu12-12.1.105-py3-none-manylinux1_x86_64.whl (14.1 MB)\n",
      "\u001b[2K   \u001b[38;2;114;156;31m━━━━━━━━━━━━━━━━━━━━━━━━━━━━━━━━━━━━━━━━\u001b[0m \u001b[32m14.1/14.1 MB\u001b[0m \u001b[31m16.8 MB/s\u001b[0m eta \u001b[36m0:00:00\u001b[0m[36m0:00:01\u001b[0m[36m0:00:01\u001b[0m01\u001b[0m\n",
      "\u001b[?25hDownloading nvidia_cuda_nvrtc_cu12-12.1.105-py3-none-manylinux1_x86_64.whl (23.7 MB)\n",
      "\u001b[2K   \u001b[38;2;114;156;31m━━━━━━━━━━━━━━━━━━━━━━━━━━━━━━━━━━━━━━━━\u001b[0m \u001b[32m23.7/23.7 MB\u001b[0m \u001b[31m17.3 MB/s\u001b[0m eta \u001b[36m0:00:00\u001b[0m MB/s\u001b[0m eta \u001b[36m0:00:01\u001b[0m:01\u001b[0m\n",
      "\u001b[?25hDownloading nvidia_cuda_runtime_cu12-12.1.105-py3-none-manylinux1_x86_64.whl (823 kB)\n",
      "\u001b[2K   \u001b[38;2;114;156;31m━━━━━━━━━━━━━━━━━━━━━━━━━━━━━━━━━━━━━━━━\u001b[0m \u001b[32m823.6/823.6 kB\u001b[0m \u001b[31m14.6 MB/s\u001b[0m eta \u001b[36m0:00:00\u001b[0m\n",
      "\u001b[?25hDownloading nvidia_cudnn_cu12-9.1.0.70-py3-none-manylinux2014_x86_64.whl (664.8 MB)\n",
      "\u001b[2K   \u001b[38;2;114;156;31m━━━━━━━━━━━━━━━━━━━━━━━━━━━━━━━━━━━━━━━━\u001b[0m \u001b[32m664.8/664.8 MB\u001b[0m \u001b[31m15.7 MB/s\u001b[0m eta \u001b[36m0:00:00\u001b[0mm eta \u001b[36m0:00:01\u001b[0m[36m0:00:01\u001b[0m\n",
      "\u001b[?25hDownloading nvidia_cufft_cu12-11.0.2.54-py3-none-manylinux1_x86_64.whl (121.6 MB)\n",
      "\u001b[2K   \u001b[38;2;114;156;31m━━━━━━━━━━━━━━━━━━━━━━━━━━━━━━━━━━━━━━━━\u001b[0m \u001b[32m121.6/121.6 MB\u001b[0m \u001b[31m16.5 MB/s\u001b[0m eta \u001b[36m0:00:00\u001b[0mm eta \u001b[36m0:00:01\u001b[0m0:01\u001b[0m:02\u001b[0m\n",
      "\u001b[?25hDownloading nvidia_curand_cu12-10.3.2.106-py3-none-manylinux1_x86_64.whl (56.5 MB)\n",
      "\u001b[2K   \u001b[38;2;114;156;31m━━━━━━━━━━━━━━━━━━━━━━━━━━━━━━━━━━━━━━━━\u001b[0m \u001b[32m56.5/56.5 MB\u001b[0m \u001b[31m17.0 MB/s\u001b[0m eta \u001b[36m0:00:00\u001b[0mm eta \u001b[36m0:00:01\u001b[0m[36m0:00:01\u001b[0m\n",
      "\u001b[?25hDownloading nvidia_cusolver_cu12-11.4.5.107-py3-none-manylinux1_x86_64.whl (124.2 MB)\n",
      "\u001b[2K   \u001b[38;2;114;156;31m━━━━━━━━━━━━━━━━━━━━━━━━━━━━━━━━━━━━━━━━\u001b[0m \u001b[32m124.2/124.2 MB\u001b[0m \u001b[31m16.3 MB/s\u001b[0m eta \u001b[36m0:00:00\u001b[0mm eta \u001b[36m0:00:01\u001b[0m[36m0:00:01\u001b[0m\n",
      "\u001b[?25hDownloading nvidia_cusparse_cu12-12.1.0.106-py3-none-manylinux1_x86_64.whl (196.0 MB)\n",
      "\u001b[2K   \u001b[38;2;114;156;31m━━━━━━━━━━━━━━━━━━━━━━━━━━━━━━━━━━━━━━━━\u001b[0m \u001b[32m196.0/196.0 MB\u001b[0m \u001b[31m17.0 MB/s\u001b[0m eta \u001b[36m0:00:00\u001b[0mm eta \u001b[36m0:00:01\u001b[0m[36m0:00:01\u001b[0m\n",
      "\u001b[?25hDownloading nvidia_nccl_cu12-2.20.5-py3-none-manylinux2014_x86_64.whl (176.2 MB)\n",
      "\u001b[2K   \u001b[38;2;114;156;31m━━━━━━━━━━━━━━━━━━━━━━━━━━━━━━━━━━━━━━━━\u001b[0m \u001b[32m176.2/176.2 MB\u001b[0m \u001b[31m16.7 MB/s\u001b[0m eta \u001b[36m0:00:00\u001b[0mm eta \u001b[36m0:00:01\u001b[0m[36m0:00:01\u001b[0m\n",
      "\u001b[?25hDownloading nvidia_nvtx_cu12-12.1.105-py3-none-manylinux1_x86_64.whl (99 kB)\n",
      "Downloading triton-3.0.0-1-cp310-cp310-manylinux2014_x86_64.manylinux_2_17_x86_64.whl (209.4 MB)\n",
      "\u001b[2K   \u001b[38;2;114;156;31m━━━━━━━━━━━━━━━━━━━━━━━━━━━━━━━━━━━━━━━━\u001b[0m \u001b[32m209.4/209.4 MB\u001b[0m \u001b[31m16.0 MB/s\u001b[0m eta \u001b[36m0:00:00\u001b[0mm eta \u001b[36m0:00:01\u001b[0m[36m0:00:01\u001b[0m\n",
      "\u001b[?25hDownloading torchvision-0.19.1-cp310-cp310-manylinux1_x86_64.whl (7.0 MB)\n",
      "\u001b[2K   \u001b[38;2;114;156;31m━━━━━━━━━━━━━━━━━━━━━━━━━━━━━━━━━━━━━━━━\u001b[0m \u001b[32m7.0/7.0 MB\u001b[0m \u001b[31m16.1 MB/s\u001b[0m eta \u001b[36m0:00:00\u001b[0m31m17.9 MB/s\u001b[0m eta \u001b[36m0:00:01\u001b[0m\n",
      "\u001b[?25hDownloading tqdm-4.66.5-py3-none-any.whl (78 kB)\n",
      "Downloading lazy_loader-0.4-py3-none-any.whl (12 kB)\n",
      "Downloading networkx-3.3-py3-none-any.whl (1.7 MB)\n",
      "\u001b[2K   \u001b[38;2;114;156;31m━━━━━━━━━━━━━━━━━━━━━━━━━━━━━━━━━━━━━━━━\u001b[0m \u001b[32m1.7/1.7 MB\u001b[0m \u001b[31m16.1 MB/s\u001b[0m eta \u001b[36m0:00:00\u001b[0m\n",
      "\u001b[?25hDownloading tifffile-2024.8.30-py3-none-any.whl (227 kB)\n",
      "Downloading fsspec-2024.9.0-py3-none-any.whl (179 kB)\n",
      "Downloading sympy-1.13.2-py3-none-any.whl (6.2 MB)\n",
      "\u001b[2K   \u001b[38;2;114;156;31m━━━━━━━━━━━━━━━━━━━━━━━━━━━━━━━━━━━━━━━━\u001b[0m \u001b[32m6.2/6.2 MB\u001b[0m \u001b[31m16.2 MB/s\u001b[0m eta \u001b[36m0:00:00\u001b[0m MB/s\u001b[0m eta \u001b[36m0:00:01\u001b[0m\n",
      "\u001b[?25hDownloading mpmath-1.3.0-py3-none-any.whl (536 kB)\n",
      "\u001b[2K   \u001b[38;2;114;156;31m━━━━━━━━━━━━━━━━━━━━━━━━━━━━━━━━━━━━━━━━\u001b[0m \u001b[32m536.2/536.2 kB\u001b[0m \u001b[31m12.0 MB/s\u001b[0m eta \u001b[36m0:00:00\u001b[0m\n",
      "\u001b[?25hDownloading nvidia_nvjitlink_cu12-12.6.68-py3-none-manylinux2014_x86_64.whl (19.7 MB)\n",
      "\u001b[2K   \u001b[38;2;114;156;31m━━━━━━━━━━━━━━━━━━━━━━━━━━━━━━━━━━━━━━━━\u001b[0m \u001b[32m19.7/19.7 MB\u001b[0m \u001b[31m16.2 MB/s\u001b[0m eta \u001b[36m0:00:00\u001b[0m MB/s\u001b[0m eta \u001b[36m0:00:01\u001b[0m:01\u001b[0m\n",
      "\u001b[?25hInstalling collected packages: mpmath, triton, tqdm, tifffile, sympy, pillow, nvidia-nvtx-cu12, nvidia-nvjitlink-cu12, nvidia-nccl-cu12, nvidia-curand-cu12, nvidia-cufft-cu12, nvidia-cuda-runtime-cu12, nvidia-cuda-nvrtc-cu12, nvidia-cuda-cupti-cu12, nvidia-cublas-cu12, networkx, lazy-loader, fsspec, nvidia-cusparse-cu12, nvidia-cudnn-cu12, imageio, scikit-image, nvidia-cusolver-cu12, torch, torchvision, torchxrayvision\n",
      "Successfully installed fsspec-2024.9.0 imageio-2.35.1 lazy-loader-0.4 mpmath-1.3.0 networkx-3.3 nvidia-cublas-cu12-12.1.3.1 nvidia-cuda-cupti-cu12-12.1.105 nvidia-cuda-nvrtc-cu12-12.1.105 nvidia-cuda-runtime-cu12-12.1.105 nvidia-cudnn-cu12-9.1.0.70 nvidia-cufft-cu12-11.0.2.54 nvidia-curand-cu12-10.3.2.106 nvidia-cusolver-cu12-11.4.5.107 nvidia-cusparse-cu12-12.1.0.106 nvidia-nccl-cu12-2.20.5 nvidia-nvjitlink-cu12-12.6.68 nvidia-nvtx-cu12-12.1.105 pillow-10.4.0 scikit-image-0.24.0 sympy-1.13.2 tifffile-2024.8.30 torch-2.4.1 torchvision-0.19.1 torchxrayvision-1.2.3 tqdm-4.66.5 triton-3.0.0\n",
      "Note: you may need to restart the kernel to use updated packages.\n"
     ]
    }
   ],
   "source": [
    "pip install torchxrayvision"
   ]
  },
  {
   "cell_type": "code",
   "execution_count": null,
   "id": "b672cfdd-f2c8-4ced-9010-c89f61ab9852",
   "metadata": {},
   "outputs": [],
   "source": [
    "import torchxrayvision as xrv\n",
    "import pydicom\n",
    "import torch\n",
    "import matplotlib.pyplot as plt\n",
    "\n",
    "# Carregar o arquivo DICOM\n",
    "dicom_file = \"/home/gab/dicom_samples/study1/study1_1/study1_1_1/study1_1_1img1.dcm\"\n",
    "dicom_data = pydicom.dcmread(dicom_file)\n",
    "\n",
    "# Ler a imagem do DICOM usando TorchXRayVision\n",
    "img = xrv.datasets.read_xray_dcm(dicom_data)\n",
    "\n",
    "# Mostrar a imagem para ver se foi carregada corretamente\n",
    "plt.imshow(img, cmap='gray')\n",
    "plt.show()\n",
    "\n",
    "# Carregar o modelo pré-treinado\n",
    "model = xrv.models.DenseNet(weights=\"densenet121-res224-all\")\n",
    "\n",
    "# Fazer a classificação\n",
    "img_tensor = torch.from_numpy(img).unsqueeze(0).unsqueeze(0).float()\n",
    "output = model(img_tensor)\n",
    "\n",
    "# Mapear os resultados para as classes conhecidas\n",
    "for i, value in enumerate(output[0]):\n",
    "    print(f\"{model.pathologies[i]}: {value.item()}\")\n"
   ]
  }
 ],
 "metadata": {
  "kernelspec": {
   "display_name": "Python 3 (ipykernel)",
   "language": "python",
   "name": "python3"
  },
  "language_info": {
   "codemirror_mode": {
    "name": "ipython",
    "version": 3
   },
   "file_extension": ".py",
   "mimetype": "text/x-python",
   "name": "python",
   "nbconvert_exporter": "python",
   "pygments_lexer": "ipython3",
   "version": "3.10.12"
  }
 },
 "nbformat": 4,
 "nbformat_minor": 5
}

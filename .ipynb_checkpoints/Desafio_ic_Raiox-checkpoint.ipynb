{
 "cells": [
  {
   "cell_type": "code",
   "execution_count": 1,
   "id": "49f9f924-83fe-4ea7-a71b-a70b83a9e2bf",
   "metadata": {},
   "outputs": [
    {
     "name": "stdout",
     "output_type": "stream",
     "text": [
      "Arquivo encontrado: /home/gab/dicom_samples/study1/study1_1/study1_1_1/study1_1_1img1.dcm\n"
     ]
    }
   ],
   "source": [
    "from pathlib import Path\n",
    "\n",
    "file_path = Path(\"/home/gab/dicom_samples/study1/study1_1/study1_1_1/study1_1_1img1.dcm\")\n",
    "\n",
    "# Verifica se o arquivo existe\n",
    "if file_path.is_file():\n",
    "    print(f\"Arquivo encontrado: {file_path}\")\n",
    "else:\n",
    "    print(f\"Arquivo não encontrado: {file_path}\")\n"
   ]
  },
  {
   "cell_type": "code",
   "execution_count": 2,
   "id": "9d6edcf0-6eed-4812-adfa-9333a5587126",
   "metadata": {},
   "outputs": [
    {
     "name": "stdout",
     "output_type": "stream",
     "text": [
      "Defaulting to user installation because normal site-packages is not writeable\n",
      "Requirement already satisfied: requests in /home/gab/.local/lib/python3.10/site-packages (2.32.3)\n",
      "Collecting pydicom\n",
      "  Downloading pydicom-3.0.0-py3-none-any.whl.metadata (9.4 kB)\n",
      "Requirement already satisfied: charset-normalizer<4,>=2 in /home/gab/.local/lib/python3.10/site-packages (from requests) (3.3.2)\n",
      "Requirement already satisfied: idna<4,>=2.5 in /usr/lib/python3/dist-packages (from requests) (3.3)\n",
      "Requirement already satisfied: urllib3<3,>=1.21.1 in /usr/lib/python3/dist-packages (from requests) (1.26.5)\n",
      "Requirement already satisfied: certifi>=2017.4.17 in /usr/lib/python3/dist-packages (from requests) (2020.6.20)\n",
      "Downloading pydicom-3.0.0-py3-none-any.whl (1.9 MB)\n",
      "\u001b[2K   \u001b[38;2;114;156;31m━━━━━━━━━━━━━━━━━━━━━━━━━━━━━━━━━━━━━━━━\u001b[0m \u001b[32m1.9/1.9 MB\u001b[0m \u001b[31m5.9 MB/s\u001b[0m eta \u001b[36m0:00:00\u001b[0m[31m14.4 MB/s\u001b[0m eta \u001b[36m0:00:01\u001b[0m\n",
      "\u001b[?25hInstalling collected packages: pydicom\n",
      "Successfully installed pydicom-3.0.0\n",
      "Note: you may need to restart the kernel to use updated packages.\n"
     ]
    }
   ],
   "source": [
    "pip install requests pydicom\n"
   ]
  },
  {
   "cell_type": "code",
   "execution_count": 3,
   "id": "3c3f7a45-bfed-449a-8b7f-b5221eb56d80",
   "metadata": {},
   "outputs": [
    {
     "name": "stdout",
     "output_type": "stream",
     "text": [
      "Erro ao enviar o arquivo: 401\n"
     ]
    }
   ],
   "source": [
    "import requests\n",
    "\n",
    "# Caminho para o arquivo DICOM\n",
    "dicom_file = \"/home/gab/dicom_samples/study1/study1_1/study1_1_1/study1_1_1img1.dcm\"\n",
    "\n",
    "# URL do Orthanc local\n",
    "url = \"http://localhost:8042/instances\"\n",
    "\n",
    "# Headers necessários\n",
    "headers = {\n",
    "    \"Content-Type\": \"application/dicom\"\n",
    "}\n",
    "\n",
    "# Ler e enviar o arquivo DICOM\n",
    "with open(dicom_file, 'rb') as f:\n",
    "    response = requests.post(url, headers=headers, data=f)\n",
    "    if response.status_code == 200:\n",
    "        print(f\"Arquivo {dicom_file} enviado com sucesso!\")\n",
    "    else:\n",
    "        print(f\"Erro ao enviar o arquivo: {response.status_code}\")"
   ]
  },
  {
   "cell_type": "code",
   "execution_count": 4,
   "id": "f0e62fa5-a436-4bfa-9c3f-b9a699bf4ab4",
   "metadata": {},
   "outputs": [
    {
     "name": "stdout",
     "output_type": "stream",
     "text": [
      "Arquivo /home/gab/dicom_samples/study1/study1_1/study1_1_1/study1_1_1img1.dcm enviado com sucesso!\n"
     ]
    }
   ],
   "source": [
    "import requests\n",
    "\n",
    "# Caminho para o arquivo DICOM\n",
    "dicom_file = \"/home/gab/dicom_samples/study1/study1_1/study1_1_1/study1_1_1img1.dcm\"\n",
    "\n",
    "# URL do Orthanc local\n",
    "url = \"http://localhost:8042/instances\"\n",
    "\n",
    "# Headers necessários\n",
    "headers = {\n",
    "    \"Content-Type\": \"application/dicom\"\n",
    "}\n",
    "\n",
    "# Nome de usuário e senha do Orthanc\n",
    "username = \"orthanc\"\n",
    "password = \"orthanc\"\n",
    "\n",
    "# Ler e enviar o arquivo DICOM com autenticação\n",
    "with open(dicom_file, 'rb') as f:\n",
    "    response = requests.post(url, headers=headers, data=f, auth=(username, password))\n",
    "    if response.status_code == 200:\n",
    "        print(f\"Arquivo {dicom_file} enviado com sucesso!\")\n",
    "    else:\n",
    "        print(f\"Erro ao enviar o arquivo: {response.status_code}\")\n"
   ]
  },
  {
   "cell_type": "code",
   "execution_count": 5,
   "id": "de1e8149-7174-4829-99e8-7361d839788e",
   "metadata": {},
   "outputs": [
    {
     "name": "stdout",
     "output_type": "stream",
     "text": [
      "Arquivo /home/gab/dicom_samples/id_0a1a38c4-c9e03c76-28a14f88-2d30e1d4-6183d46b/Study_79148372.32343444.40535568.71230168.45973202/Series_35159210.86362984.56224315.14980009.77443886/image-75545339-55870039-51885816-92064157-98378507.dcm enviado com sucesso!\n"
     ]
    }
   ],
   "source": [
    "import requests\n",
    "\n",
    "# Caminho para o arquivo DICOM\n",
    "dicom_file = \"/home/gab/dicom_samples/id_0a1a38c4-c9e03c76-28a14f88-2d30e1d4-6183d46b/Study_79148372.32343444.40535568.71230168.45973202/Series_35159210.86362984.56224315.14980009.77443886/image-75545339-55870039-51885816-92064157-98378507.dcm\"\n",
    "\n",
    "# URL do Orthanc local\n",
    "url = \"http://localhost:8042/instances\"\n",
    "\n",
    "# Headers necessários\n",
    "headers = {\n",
    "    \"Content-Type\": \"application/dicom\"\n",
    "}\n",
    "\n",
    "# Nome de usuário e senha do Orthanc\n",
    "username = \"orthanc\"\n",
    "password = \"orthanc\"\n",
    "\n",
    "# Ler e enviar o arquivo DICOM com autenticação\n",
    "with open(dicom_file, 'rb') as f:\n",
    "    response = requests.post(url, headers=headers, data=f, auth=(username, password))\n",
    "    if response.status_code == 200:\n",
    "        print(f\"Arquivo {dicom_file} enviado com sucesso!\")\n",
    "    else:\n",
    "        print(f\"Erro ao enviar o arquivo: {response.status_code}\")\n"
   ]
  }
 ],
 "metadata": {
  "kernelspec": {
   "display_name": "Python 3 (ipykernel)",
   "language": "python",
   "name": "python3"
  },
  "language_info": {
   "codemirror_mode": {
    "name": "ipython",
    "version": 3
   },
   "file_extension": ".py",
   "mimetype": "text/x-python",
   "name": "python",
   "nbconvert_exporter": "python",
   "pygments_lexer": "ipython3",
   "version": "3.10.12"
  }
 },
 "nbformat": 4,
 "nbformat_minor": 5
}
